{
  "cells": [
    {
      "cell_type": "markdown",
      "metadata": {
        "id": "NWqCCkKXlWGO"
      },
      "source": [
        "\n",
        "<img src=\"../../img/ods_stickers.jpg\">\n",
        "\n",
        "## <center> [mlcourse.ai](https://mlcourse.ai) – открытый курс OpenDataScience по машинному обучению\n",
        "    \n",
        "Автор материала: Мария Мансурова, аналитик-разработчик в команде Яндекс.Метрики. Материал распространяется на условиях лицензии [Creative Commons CC BY-NC-SA 4.0](https://creativecommons.org/licenses/by-nc-sa/4.0/). Можно использовать в любых целях (редактировать, поправлять и брать за основу), кроме коммерческих, но с обязательным упоминанием автора материала."
      ]
    },
    {
      "cell_type": "markdown",
      "metadata": {
        "id": "7Vmg5yD6lWGV"
      },
      "source": [
        "# <center> Домашнее задание № 9. (демо)\n",
        "## <center> Анализ временных рядов\n",
        "    \n"
      ]
    },
    {
      "cell_type": "code",
      "execution_count": null,
      "metadata": {
        "id": "kAj4PSwdlWGW"
      },
      "outputs": [],
      "source": [
        "import os\n",
        "\n",
        "import pandas as pd\n",
        "import requests\n",
        "from plotly import __version__\n",
        "from plotly import graph_objs as go\n",
        "from plotly.offline import download_plotlyjs, init_notebook_mode, iplot, plot\n",
        "\n",
        "print(__version__)  # need 1.9.0 or greater\n",
        "\n",
        "init_notebook_mode(connected=True)\n",
        "\n",
        "\n",
        "def plotly_df(df, title=\"\"):\n",
        "    data = []\n",
        "\n",
        "    for column in df.columns:\n",
        "        trace = go.Scatter(x=df.index, y=df[column], mode=\"lines\", name=column)\n",
        "        data.append(trace)\n",
        "\n",
        "    layout = dict(title=title)\n",
        "    fig = dict(data=data, layout=layout)\n",
        "    iplot(fig, show_link=False)"
      ]
    },
    {
      "cell_type": "markdown",
      "metadata": {
        "collapsed": true,
        "id": "9RlaJbZOlWGY"
      },
      "source": [
        "## Подготавливаем данные\n",
        "\n",
        "Для начала скачаем данные в `dataframe`. Сегодня будем предсказывать просмотры wiki-страницы [Machine Learning](https://en.wikipedia.org/wiki/Machine_learning). Данные я скачала с помощью библиотеки [Wikipediatrend](https://www.r-bloggers.com/using-wikipediatrend/) для `R`."
      ]
    },
    {
      "cell_type": "code",
      "execution_count": null,
      "metadata": {
        "id": "WABVInSBlWGZ"
      },
      "outputs": [],
      "source": [
        "df = pd.read_csv(\"../../data/wiki_machine_learning.csv\", sep=\" \")\n",
        "df = df[df[\"count\"] != 0]\n",
        "df.head()"
      ]
    },
    {
      "cell_type": "code",
      "execution_count": null,
      "metadata": {
        "id": "MYskDhT4lWGa"
      },
      "outputs": [],
      "source": [
        "df.shape"
      ]
    },
    {
      "cell_type": "code",
      "execution_count": null,
      "metadata": {
        "id": "jxzHec9elWGb"
      },
      "outputs": [],
      "source": [
        "df.date = pd.to_datetime(df.date)"
      ]
    },
    {
      "cell_type": "code",
      "execution_count": null,
      "metadata": {
        "id": "LyGU23IClWGb"
      },
      "outputs": [],
      "source": [
        "plotly_df(df.set_index(\"date\")[[\"count\"]])"
      ]
    },
    {
      "cell_type": "markdown",
      "metadata": {
        "id": "KAdumyGSlWGc"
      },
      "source": [
        "## Предсказание с помощью Facebook Prophet\n",
        "\n",
        "Для начала построим предсказание с помощью простой библиотеки `Facebook Prophet`. Для того, чтобы посмотреть на качество модели, отбросим из обучающей выборки последние 30 дней."
      ]
    },
    {
      "cell_type": "code",
      "execution_count": null,
      "metadata": {
        "id": "b76B3ysPlWGd"
      },
      "outputs": [],
      "source": [
        "from fbprophet import Prophet"
      ]
    },
    {
      "cell_type": "code",
      "execution_count": null,
      "metadata": {
        "id": "htWZrhRBlWGe"
      },
      "outputs": [],
      "source": [
        "predictions = 30\n",
        "\n",
        "df = df[[\"date\", \"count\"]]\n",
        "df.columns = [\"ds\", \"y\"]\n",
        "train_df = df[:-predictions].copy()"
      ]
    },
    {
      "cell_type": "code",
      "execution_count": null,
      "metadata": {
        "id": "zRBP-q4-lWGe"
      },
      "outputs": [],
      "source": [
        "## ВАШ КОД для построения модели ##"
      ]
    },
    {
      "cell_type": "markdown",
      "metadata": {
        "id": "vzD0PThvlWGe"
      },
      "source": [
        "**Вопрос 1:** Какое предсказание числа просмотров wiki-страницы на 20 января? Ответ округлите до целого числа.\n",
        "\n",
        "Оценим качество предсказания по последним 30 точкам."
      ]
    },
    {
      "cell_type": "code",
      "execution_count": null,
      "metadata": {
        "id": "gzaUaIlFlWGf"
      },
      "outputs": [],
      "source": [
        "## ВАШ КОД для оценки качества полученной модели ##"
      ]
    },
    {
      "cell_type": "markdown",
      "metadata": {
        "id": "UYUfBKG-lWGf"
      },
      "source": [
        "**Вопрос 2**: Какое получилось MAPE?\n",
        "\n",
        "**Вопрос 3**: Какое получилось MAE?"
      ]
    },
    {
      "cell_type": "markdown",
      "metadata": {
        "id": "Ae6X9F0elWGg"
      },
      "source": [
        "## Предсказываем с помощью ARIMA"
      ]
    },
    {
      "cell_type": "code",
      "execution_count": null,
      "metadata": {
        "id": "zaBfl9wQlWGg"
      },
      "outputs": [],
      "source": [
        "%matplotlib inline\n",
        "import matplotlib.pyplot as plt\n",
        "import statsmodels.api as sm\n",
        "from scipy import stats"
      ]
    },
    {
      "cell_type": "markdown",
      "metadata": {
        "id": "M3o19bZllWGg"
      },
      "source": [
        "**Вопрос 4:** Проверим стационарность ряда с помощью критерия Дики-Фулера. Является ли ряд стационарным? Какое значение p-value?"
      ]
    },
    {
      "cell_type": "code",
      "execution_count": null,
      "metadata": {
        "id": "uMGJK9dvlWGh"
      },
      "outputs": [],
      "source": [
        "## ВАШ КОД для проверки стационарности ряда ##"
      ]
    },
    {
      "cell_type": "markdown",
      "metadata": {
        "id": "z4OSeNwAlWGh"
      },
      "source": [
        "**Вопрос 5**: Далее перейдем к построению модели SARIMAX (`sm.tsa.statespace.SARIMAX`). Модель c какими параметрами лучшая по `AIC`-критерию?"
      ]
    },
    {
      "cell_type": "code",
      "execution_count": null,
      "metadata": {
        "id": "6vFlNbs_lWGh"
      },
      "outputs": [],
      "source": [
        "## ВАШ КОД для построения модели ##"
      ]
    }
  ],
  "metadata": {
    "kernelspec": {
      "display_name": "Python 3",
      "language": "python",
      "name": "python3"
    },
    "language_info": {
      "codemirror_mode": {
        "name": "ipython",
        "version": 3
      },
      "file_extension": ".py",
      "mimetype": "text/x-python",
      "name": "python",
      "nbconvert_exporter": "python",
      "pygments_lexer": "ipython3",
      "version": "3.7.6"
    },
    "colab": {
      "provenance": []
    }
  },
  "nbformat": 4,
  "nbformat_minor": 0
}