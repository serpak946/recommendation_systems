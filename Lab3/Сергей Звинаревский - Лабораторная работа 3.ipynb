{
 "nbformat": 4,
 "nbformat_minor": 0,
 "metadata": {
  "kernelspec": {
   "display_name": "Python 3",
   "language": "python",
   "name": "python3"
  },
  "language_info": {
   "codemirror_mode": {
    "name": "ipython",
    "version": 3
   },
   "file_extension": ".py",
   "mimetype": "text/x-python",
   "name": "python",
   "nbconvert_exporter": "python",
   "pygments_lexer": "ipython3",
   "version": "3.6.4"
  },
  "colab": {
   "name": "Лабораторная работа 3.ipynb",
   "provenance": []
  }
 },
 "cells": [
  {
   "cell_type": "markdown",
   "metadata": {
    "id": "DSMC_txo-ibV"
   },
   "source": [
    "# Лабораторная работа №3\n",
    "## Распознавание изображений на примере рукописных цифр"
   ]
  },
  {
   "cell_type": "markdown",
   "metadata": {
    "id": "W0ZpWxiD-ibb"
   },
   "source": [
    "Загрузите датасет digits с помощью функции load_digits из sklearn.datasets и подготовьте матрицу признаков X и ответы на обучающей выборке y."
   ]
  },
  {
   "cell_type": "code",
   "metadata": {
    "colab": {
     "base_uri": "https://localhost:8080/"
    },
    "id": "8H8mdEg9-ibb",
    "executionInfo": {
     "status": "ok",
     "timestamp": 1611854380494,
     "user_tz": -120,
     "elapsed": 693,
     "user": {
      "displayName": "Владимир Попукайло",
      "photoUrl": "",
      "userId": "02489343677032309064"
     }
    },
    "outputId": "54c39c0e-666b-412b-cf70-2de056831307",
    "ExecuteTime": {
     "end_time": "2023-11-11T01:03:18.491851900Z",
     "start_time": "2023-11-11T01:03:18.470603200Z"
    }
   },
   "source": [
    "import numpy as np\n",
    "from sklearn.datasets import load_digits\n",
    "from sklearn.tree import DecisionTreeClassifier\n",
    "from sklearn.model_selection import cross_validate, cross_val_score\n",
    "from sklearn.model_selection import train_test_split\n",
    "from sklearn.ensemble import BaggingClassifier, RandomForestClassifier\n",
    "\n",
    "from matplotlib import pyplot as plt\n",
    "%matplotlib inline\n",
    "\n",
    "data = load_digits()\n",
    "X, y = data.data, data.target\n",
    "\n",
    "X[0,:].reshape([8,8])"
   ],
   "execution_count": 13,
   "outputs": [
    {
     "data": {
      "text/plain": "array([[ 0.,  0.,  5., 13.,  9.,  1.,  0.,  0.],\n       [ 0.,  0., 13., 15., 10., 15.,  5.,  0.],\n       [ 0.,  3., 15.,  2.,  0., 11.,  8.,  0.],\n       [ 0.,  4., 12.,  0.,  0.,  8.,  8.,  0.],\n       [ 0.,  5.,  8.,  0.,  0.,  9.,  8.,  0.],\n       [ 0.,  4., 11.,  0.,  1., 12.,  7.,  0.],\n       [ 0.,  2., 14.,  5., 10., 12.,  0.,  0.],\n       [ 0.,  0.,  6., 13., 10.,  0.,  0.,  0.]])"
     },
     "execution_count": 13,
     "metadata": {},
     "output_type": "execute_result"
    }
   ]
  },
  {
   "cell_type": "code",
   "metadata": {
    "colab": {
     "base_uri": "https://localhost:8080/",
     "height": 35
    },
    "id": "Z4nrWzPl_Iy0",
    "executionInfo": {
     "status": "ok",
     "timestamp": 1611854039792,
     "user_tz": -120,
     "elapsed": 1203,
     "user": {
      "displayName": "Владимир Попукайло",
      "photoUrl": "",
      "userId": "02489343677032309064"
     }
    },
    "outputId": "a27eef7b-0943-479b-fa84-d1cfc1e64a1c",
    "ExecuteTime": {
     "end_time": "2023-11-11T00:55:56.697686200Z",
     "start_time": "2023-11-11T00:55:56.652706600Z"
    }
   },
   "source": [
    "import sklearn\n",
    "sklearn.__version__"
   ],
   "execution_count": 3,
   "outputs": [
    {
     "data": {
      "text/plain": "'1.3.1'"
     },
     "execution_count": 3,
     "metadata": {},
     "output_type": "execute_result"
    }
   ]
  },
  {
   "cell_type": "code",
   "metadata": {
    "id": "5iw2hecl-ibd",
    "outputId": "75fafe7b-507d-46b8-a59c-4c41cdb978fd",
    "ExecuteTime": {
     "end_time": "2023-11-11T00:55:59.775530800Z",
     "start_time": "2023-11-11T00:55:59.376907200Z"
    }
   },
   "source": [
    "f, axes = plt.subplots(1, 4, sharey=True, figsize=(16,4))\n",
    "for i in range(4):\n",
    "    axes[i].imshow(X[i,:].reshape([8,8]));"
   ],
   "execution_count": 4,
   "outputs": [
    {
     "data": {
      "text/plain": "<Figure size 1600x400 with 4 Axes>",
      "image/png": "[encoded data removed]"
     },
     "metadata": {},
     "output_type": "display_data"
    }
   ]
  },
  {
   "cell_type": "markdown",
   "metadata": {
    "id": "6reCgInS-ibe"
   },
   "source": [
    "Для оценки качества далее нужно будет использовать cross_val_score из sklearn.cross_validation с параметром cv=10. Эта функция реализует k-fold cross validation c k равным значению параметра cv. Используйте k=10, чтобы полученные оценки качества имели небольшой разброс. Функция cross_val_score будет возвращать numpy.ndarray, в котором будет k чисел - качество в каждом из k экспериментов k-fold cross validation. Получите среднее значение (которое и будет оценкой качества работы) массива, который возвращает cross_val_score."
   ]
  },
  {
   "cell_type": "code",
   "metadata": {
    "id": "Bq-Nc9jO-ibf",
    "ExecuteTime": {
     "end_time": "2023-11-11T01:01:59.126994300Z",
     "start_time": "2023-11-11T01:01:59.112401100Z"
    }
   },
   "source": [
    "X_train, X_holdout, y_train, y_holdout = train_test_split(X, y, test_size=0.3,\n",
    "random_state=17)"
   ],
   "execution_count": 10,
   "outputs": []
  },
  {
   "cell_type": "markdown",
   "metadata": {
    "id": "gMvxCrCB-ibg"
   },
   "source": [
    "Воспользуйтесь BaggingClassifier из sklearn.ensemble, чтобы обучить бэггинг над DecisionTreeClassifier. Обучайтесь только на train выборке. Используйте в BaggingClassifier параметры по умолчанию, задав только количество деревьев равным 100. Качество классификации новой модели - среднее значение cross_val_score. Сравните работу композиции деревьев с одним решающем деревом."
   ]
  },
  {
   "cell_type": "code",
   "metadata": {
    "collapsed": true,
    "id": "0Ihuo-nI-ibg",
    "ExecuteTime": {
     "end_time": "2023-11-11T01:13:38.934070100Z",
     "start_time": "2023-11-11T01:13:16.292910400Z"
    }
   },
   "source": [
    "bc = BaggingClassifier(n_estimators=100)\n",
    "bc.fit(X_train, y_train)\n",
    "np.mean(cross_val_score(bc, X, y, cv=10))"
   ],
   "execution_count": 23,
   "outputs": [
    {
     "data": {
      "text/plain": "0.9203910614525139"
     },
     "execution_count": 23,
     "metadata": {},
     "output_type": "execute_result"
    }
   ]
  },
  {
   "cell_type": "code",
   "execution_count": 24,
   "outputs": [
    {
     "data": {
      "text/plain": "0.828032278088144"
     },
     "execution_count": 24,
     "metadata": {},
     "output_type": "execute_result"
    }
   ],
   "source": [
    "dt = DecisionTreeClassifier()\n",
    "dt.fit(X_train, y_train)\n",
    "np.mean(cross_val_score(dt, X, y, cv=10))"
   ],
   "metadata": {
    "collapsed": false,
    "ExecuteTime": {
     "end_time": "2023-11-11T01:13:39.216867400Z",
     "start_time": "2023-11-11T01:13:38.936071500Z"
    }
   }
  },
  {
   "cell_type": "markdown",
   "metadata": {
    "id": "2xTE-3Lh-ibg"
   },
   "source": [
    "Теперь изучите параметры BaggingClassifier и выберите их такими, чтобы каждый базовый алгоритм обучался не на всех d признаках, а на $\\sqrt{d}$ случайных признаков. Каково качество работы алгоритма?"
   ]
  },
  {
   "cell_type": "code",
   "metadata": {
    "collapsed": true,
    "id": "MatRhfsC-ibh"
   },
   "source": [],
   "execution_count": null,
   "outputs": []
  },
  {
   "cell_type": "markdown",
   "metadata": {
    "id": "zqZ9obR2-ibh"
   },
   "source": [
    "Наконец, давайте попробуем выбирать случайные признаки не один раз на все дерево, а при построении каждой вершины дерева. Сделать это несложно: нужно убрать выбор случайного подмножества признаков в BaggingClassifier и добавить его в DecisionTreeClassifier. Какой параметр за это отвечает, можно понять из документации sklearn. Попробуйте выбирать опять же $\\sqrt{d}$ признаков. Какое теперь качество полученного классификатора?"
   ]
  },
  {
   "cell_type": "code",
   "metadata": {
    "collapsed": true,
    "id": "9SUuOidx-ibi"
   },
   "source": [],
   "execution_count": null,
   "outputs": []
  },
  {
   "cell_type": "markdown",
   "metadata": {
    "id": "pOmIj2j6-ibi"
   },
   "source": [
    "Полученный в пункте 4 классификатор - бэггинг на рандомизированных деревьях (в которых при построении каждой вершины выбирается случайное подмножество признаков и разбиение ищется только по ним). Это в точности соответствует алгоритму Random Forest. Сравнить качество работы классификатора с RandomForestClassifier из sklearn.ensemble."
   ]
  },
  {
   "cell_type": "code",
   "metadata": {
    "collapsed": true,
    "id": "SA2ZxLzy-ibj"
   },
   "source": [],
   "execution_count": null,
   "outputs": []
  },
  {
   "cell_type": "markdown",
   "metadata": {
    "id": "SY-eidKv-ibj"
   },
   "source": [
    "Изучите, как качество классификации на данном датасете зависит от количества деревьев, количества признаков, выбираемых при построении каждой вершины дерева, а также ограничений на глубину дерева. Для наглядности лучше построить графики зависимости качества от значений параметров на обучающей и тестовой выборке"
   ]
  }
 ]
}
